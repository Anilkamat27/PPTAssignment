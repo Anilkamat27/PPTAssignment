{
  "nbformat": 4,
  "nbformat_minor": 0,
  "metadata": {
    "colab": {
      "provenance": []
    },
    "kernelspec": {
      "name": "python3",
      "display_name": "Python 3"
    },
    "language_info": {
      "name": "python"
    }
  },
  "cells": [
    {
      "cell_type": "markdown",
      "source": [
        "<aside>\n",
        "💡 **Q1.** Given an array of integers nums and an integer target, return indices of the two numbers such that they add up to target.\n",
        "\n",
        "You may assume that each input would have exactly one solution, and you may not use the same element twice.\n",
        "\n",
        "You can return the answer in any order.\n",
        "\n",
        "**Example:**\n",
        "Input: nums = [2,7,11,15], target = 9\n",
        "Output0 [0,1]\n",
        "\n",
        "**Explanation:** Because nums[0] + nums[1] == 9, we return [0, 1][\n",
        "\n",
        "</aside>"
      ],
      "metadata": {
        "id": "IHgaxwuv3WHA"
      }
    },
    {
      "cell_type": "markdown",
      "source": [
        "1st solution (brute force )"
      ],
      "metadata": {
        "id": "l8I090yV3b7z"
      }
    },
    {
      "cell_type": "code",
      "execution_count": 12,
      "metadata": {
        "colab": {
          "base_uri": "https://localhost:8080/"
        },
        "id": "qX7VKLnr3QIF",
        "outputId": "1a287d18-89f3-4fc8-cff2-3bfb4f2a341a"
      },
      "outputs": [
        {
          "output_type": "stream",
          "name": "stdout",
          "text": [
            "[[0, 1]]\n"
          ]
        }
      ],
      "source": [
        "def twoSum(nums, target):\n",
        "    result = []\n",
        "    n = len(nums)\n",
        "\n",
        "    for i in range(n - 1):\n",
        "        for j in range(i + 1, n):\n",
        "            if nums[i] + nums[j] == target:\n",
        "                pair = [i, j]\n",
        "\n",
        "                if pair not in result:\n",
        "                    result.append(pair)\n",
        "\n",
        "    return result\n",
        "\n",
        "print(twoSum([2,7,11,15],9))"
      ]
    },
    {
      "cell_type": "markdown",
      "source": [
        "2nd Solution (Improved approach)\n",
        "\n",
        "using two pointer approach\n"
      ],
      "metadata": {
        "id": "RFwLY5KL3ygX"
      }
    },
    {
      "cell_type": "code",
      "source": [
        "def twoSum(nums, target):\n",
        "    nums.sort()\n",
        "    left = 0\n",
        "    right = len(nums) - 1\n",
        "\n",
        "    while left < right:\n",
        "        temp = nums[left] + nums[right]\n",
        "        if temp == target:\n",
        "            return [left, right]\n",
        "        elif temp < target:\n",
        "            left += 1\n",
        "        else:\n",
        "            right -= 1\n",
        "\n",
        "    return 0\n",
        "print(twoSum([2,7,11,15],9))"
      ],
      "metadata": {
        "colab": {
          "base_uri": "https://localhost:8080/"
        },
        "id": "FWF4Z7nX3fvm",
        "outputId": "111d667c-8d17-452c-9711-311d001b94dc"
      },
      "execution_count": 13,
      "outputs": [
        {
          "output_type": "stream",
          "name": "stdout",
          "text": [
            "[0, 1]\n"
          ]
        }
      ]
    },
    {
      "cell_type": "markdown",
      "source": [
        "<aside>\n",
        "💡 **Q2.** Given an integer array nums and an integer val, remove all occurrences of val in nums in-place. The order of the elements may be changed. Then return the number of elements in nums which are not equal to val.\n",
        "\n",
        "Consider the number of elements in nums which are not equal to val be k, to get accepted, you need to do the following things:\n",
        "\n",
        "- Change the array nums such that the first k elements of nums contain the elements which are not equal to val. The remaining elements of nums are not important as well as the size of nums.\n",
        "- Return k.\n",
        "\n",
        "**Example :**\n",
        "Input: nums = [3,2,2,3], val = 3\n",
        "Output: 2, nums = [2,2,_*,_*]\n",
        "\n",
        "**Explanation:** Your function should return k = 2, with the first two elements of nums being 2. It does not matter what you leave beyond the returned k (hence they are underscores)[\n",
        "\n",
        "</aside>"
      ],
      "metadata": {
        "id": "Z0RcNhSZ37LJ"
      }
    },
    {
      "cell_type": "markdown",
      "source": [
        "1st approach\n",
        "\n",
        "encounter target  and remove immediately and move forward\n"
      ],
      "metadata": {
        "id": "0xczsL1a4EKB"
      }
    },
    {
      "cell_type": "code",
      "source": [
        "def removeOccurences(nums, val):\n",
        "    n = len(nums)\n",
        "    i = 0\n",
        "\n",
        "    while i < n:\n",
        "        if nums[i] == val:\n",
        "            nums.remove(nums[i])\n",
        "            n -= 1\n",
        "        else:\n",
        "            i += 1\n",
        "    res = len(nums)\n",
        "    return res , nums\n",
        "print(removeOccurences([3,2,2,3], 3))"
      ],
      "metadata": {
        "colab": {
          "base_uri": "https://localhost:8080/"
        },
        "id": "zEkQd1Rn3wrc",
        "outputId": "3d07de2d-1299-4986-fe9d-598c842d6b91"
      },
      "execution_count": 14,
      "outputs": [
        {
          "output_type": "stream",
          "name": "stdout",
          "text": [
            "(2, [2, 2])\n"
          ]
        }
      ]
    },
    {
      "cell_type": "markdown",
      "source": [
        "<aside>\n",
        "💡 **Q3.** Given a sorted array of distinct integers and a target value, return the index if the target is found. If not, return the index where it would be if it were inserted in order.\n",
        "\n",
        "You must write an algorithm with O(log n) runtime complexity.\n",
        "\n",
        "**Example 1:**\n",
        "Input: nums = [1,3,5,6], target = 5\n",
        "\n",
        "Output: 2\n",
        "\n",
        "</aside>"
      ],
      "metadata": {
        "id": "JKk3kBm74NKW"
      }
    },
    {
      "cell_type": "markdown",
      "source": [
        "1st approach\n",
        "\n",
        "Take advantage of sorted array, find the position of target element if we get same elemnt in the array, otherwise if get the element greater than target return that index of greatest element\n"
      ],
      "metadata": {
        "id": "dfsNbB-64dy-"
      }
    },
    {
      "cell_type": "code",
      "source": [
        "def FindPerfectPlace(nums, target):\n",
        "    for i in range(len(nums)):\n",
        "        if nums[i] == target:\n",
        "            return i\n",
        "        elif nums[i] > target:\n",
        "            return i\n",
        "print(FindPerfectPlace([1,3,5,6], 5))"
      ],
      "metadata": {
        "colab": {
          "base_uri": "https://localhost:8080/"
        },
        "id": "77wKUykh4K2w",
        "outputId": "80c96676-5070-479d-a79a-ce593aa753fe"
      },
      "execution_count": 15,
      "outputs": [
        {
          "output_type": "stream",
          "name": "stdout",
          "text": [
            "2\n"
          ]
        }
      ]
    },
    {
      "cell_type": "markdown",
      "source": [
        "Question 4\n",
        "Left ( due to some confusion, Sorry )\n"
      ],
      "metadata": {
        "id": "ecdtPCxs4p0P"
      }
    },
    {
      "cell_type": "markdown",
      "source": [
        "<aside>\n",
        "💡 **Q5.** You are given two integer arrays nums1 and nums2, sorted in non-decreasing order, and two integers m and n, representing the number of elements in nums1 and nums2 respectively.\n",
        "\n",
        "Merge nums1 and nums2 into a single array sorted in non-decreasing order.\n",
        "\n",
        "The final sorted array should not be returned by the function, but instead be stored inside the array nums1. To accommodate this, nums1 has a length of m + n, where the first m elements denote the elements that should be merged, and the last n elements are set to 0 and should be ignored. nums2 has a length of n.\n",
        "\n",
        "**Example 1:**\n",
        "Input: nums1 = [1,2,3,0,0,0], m = 3, nums2 = [2,5,6], n = 3\n",
        "Output: [1,2,2,3,5,6]\n",
        "\n",
        "**Explanation:** The arrays we are merging are [1,2,3] and [2,5,6].\n",
        "The result of the merge is [1,2,2,3,5,6] with the underlined elements coming from nums1.\n",
        "\n",
        "</aside>"
      ],
      "metadata": {
        "id": "eEnNAlT44tps"
      }
    },
    {
      "cell_type": "markdown",
      "source": [
        "\n",
        "\n",
        "1st approach\n",
        "simply merge two array and apply sort function"
      ],
      "metadata": {
        "id": "Mr0OCgXb4zaf"
      }
    },
    {
      "cell_type": "code",
      "source": [
        "def merge(nums1, m, nums2, n):\n",
        "    for i in range(n):\n",
        "        nums1[m + i] = nums2[i]\n",
        "    nums1.sort()\n",
        "    return nums1\n",
        "print(merge([1,2,3,0,0,0],3,[2,5,6],3))"
      ],
      "metadata": {
        "colab": {
          "base_uri": "https://localhost:8080/"
        },
        "id": "h3Hrga-M4kcq",
        "outputId": "9af7a063-8ba1-4335-8db5-a6e0421c4271"
      },
      "execution_count": 17,
      "outputs": [
        {
          "output_type": "stream",
          "name": "stdout",
          "text": [
            "[1, 2, 2, 3, 5, 6]\n"
          ]
        }
      ]
    },
    {
      "cell_type": "markdown",
      "source": [
        "2nd Approach (using three pointer )"
      ],
      "metadata": {
        "id": "K8oiYUPK5R9H"
      }
    },
    {
      "cell_type": "code",
      "source": [
        "def mergeND(nums1, m, nums2, n):\n",
        "    nums1dup = nums1[0:m]\n",
        "    p1 = 0\n",
        "    p2 = 0\n",
        "    pm = 0\n",
        "    while p1 < m and p2 < n:\n",
        "        if nums1dup [p1] <= nums2[p2]:\n",
        "            nums1[pm] = nums1dup[p1]\n",
        "            p1 += 1\n",
        "        else:\n",
        "            nums1[p] = nums2[p2]\n",
        "            p2 += 1\n",
        "        pm += 1\n",
        "    while p1 < m:\n",
        "        nums1[p] = nums1dup[p1]\n",
        "        p1 += 1\n",
        "        pm += 1\n",
        "    while p2 < n:\n",
        "        nums1[pm] = nums2[p2]\n",
        "        p2 += 1\n",
        "        pm += 1\n",
        "    return nums1\n",
        "print(merge([1,2,3,0,0,0],3,[2,5,6],3))"
      ],
      "metadata": {
        "colab": {
          "base_uri": "https://localhost:8080/"
        },
        "id": "NNPSIzNa5Q4I",
        "outputId": "aae25f66-9135-4fe2-f26b-46ae843752ba"
      },
      "execution_count": 18,
      "outputs": [
        {
          "output_type": "stream",
          "name": "stdout",
          "text": [
            "[1, 2, 2, 3, 5, 6]\n"
          ]
        }
      ]
    },
    {
      "cell_type": "markdown",
      "source": [
        "<aside>\n",
        "💡 **Q6.** Given an integer array nums, return true if any value appears at least twice in the array, and return false if every element is distinct.\n",
        "\n",
        "**Example 1:**\n",
        "Input: nums = [1,2,3,1]\n",
        "\n",
        "Output: true\n",
        "\n",
        "</aside>"
      ],
      "metadata": {
        "id": "MA5ANb9O5JDr"
      }
    },
    {
      "cell_type": "markdown",
      "source": [
        "1st approach\n",
        "\n",
        "Constantly adding element in set , why set because set only store unique element, during forward movement any element encounters occurrence in set also , Jackpot , here is  our catch , we find a duplicate .\n"
      ],
      "metadata": {
        "id": "Deu54uLJ5o_Q"
      }
    },
    {
      "cell_type": "code",
      "source": [
        "def Duplicatefinder(nums):\n",
        "    temp = set()\n",
        "\n",
        "    for num in nums:\n",
        "        if num in temp:\n",
        "            return True\n",
        "        temp.add(num)\n",
        "\n",
        "    return False\n",
        "print(Duplicatefinder([1,2,3,1]))"
      ],
      "metadata": {
        "colab": {
          "base_uri": "https://localhost:8080/"
        },
        "id": "jVfW_PTU5A6p",
        "outputId": "35813078-d9f9-46c3-afce-cc9afcdfd6f4"
      },
      "execution_count": 20,
      "outputs": [
        {
          "output_type": "stream",
          "name": "stdout",
          "text": [
            "True\n"
          ]
        }
      ]
    },
    {
      "cell_type": "markdown",
      "source": [
        "<aside>\n",
        "💡 **Q7.** Given an integer array nums, move all 0's to the end of it while maintaining the relative order of the nonzero elements.\n",
        "\n",
        "Note that you must do this in-place without making a copy of the array.\n",
        "\n",
        "**Example 1:**\n",
        "Input: nums = [0,1,0,3,12]\n",
        "Output: [1,3,12,0,0]\n",
        "\n",
        "</aside>"
      ],
      "metadata": {
        "id": "xSL7Uzmw5wkD"
      }
    },
    {
      "cell_type": "code",
      "source": [
        "def moveZeroes(nums):\n",
        "    pointer = 0\n",
        "    for i in nums:\n",
        "        if i != 0:\n",
        "            nums[pointer] = i\n",
        "            pointer += 1\n",
        "    for i in range(pointer, len(nums)):\n",
        "        nums[i] = 0\n",
        "    return nums\n",
        "print(moveZeroes([0,1,0,3,12] ))"
      ],
      "metadata": {
        "colab": {
          "base_uri": "https://localhost:8080/"
        },
        "id": "ahy2_jFP5uGf",
        "outputId": "daf28786-dbf0-40bf-cb86-f54977550560"
      },
      "execution_count": 21,
      "outputs": [
        {
          "output_type": "stream",
          "name": "stdout",
          "text": [
            "[1, 3, 12, 0, 0]\n"
          ]
        }
      ]
    },
    {
      "cell_type": "markdown",
      "source": [
        "<aside>\n",
        "💡 **Q8.** You have a set of integers s, which originally contains all the numbers from 1 to n. Unfortunately, due to some error, one of the numbers in s got duplicated to another number in the set, which results in repetition of one number and loss of another number.\n",
        "\n",
        "You are given an integer array nums representing the data status of this set after the error.\n",
        "\n",
        "Find the number that occurs twice and the number that is missing and return them in the form of an array.\n",
        "\n",
        "**Example 1:**\n",
        "Input: nums = [1,2,2,4]\n",
        "Output: [2,3]\n",
        "\n",
        "</aside>"
      ],
      "metadata": {
        "id": "NqkE8MV454dm"
      }
    },
    {
      "cell_type": "code",
      "source": [
        "def twiceOrMissing(nums):\n",
        "    duplicate = None\n",
        "    mising = None\n",
        "    for i in range(len(nums)):\n",
        "        for j in range(i + 1, len(nums)):\n",
        "            if nums[i] == nums[j]:\n",
        "                duplicate = nums[i]\n",
        "                break\n",
        "    for i in range(1, len(nums) + 1):\n",
        "        if i not in nums:\n",
        "            mising = i\n",
        "            break\n",
        "\n",
        "    return [duplicate, mising]\n",
        "print(twiceOrMissing([1,2,2,4]))"
      ],
      "metadata": {
        "colab": {
          "base_uri": "https://localhost:8080/"
        },
        "id": "U6ETVV-O51KP",
        "outputId": "2c9bb1b1-5c6b-49f4-b86b-a97c068530b4"
      },
      "execution_count": 22,
      "outputs": [
        {
          "output_type": "stream",
          "name": "stdout",
          "text": [
            "[2, 3]\n"
          ]
        }
      ]
    },
    {
      "cell_type": "code",
      "source": [],
      "metadata": {
        "id": "yG0Y-3Nd58ep"
      },
      "execution_count": null,
      "outputs": []
    }
  ]
}