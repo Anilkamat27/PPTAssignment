{
  "nbformat": 4,
  "nbformat_minor": 0,
  "metadata": {
    "colab": {
      "provenance": []
    },
    "kernelspec": {
      "name": "python3",
      "display_name": "Python 3"
    },
    "language_info": {
      "name": "python"
    }
  },
  "cells": [
    {
      "cell_type": "markdown",
      "source": [
        "<aside>\n",
        "💡 **Question 1**\n",
        "Given an integer array nums of 2n integers, group these integers into n pairs (a1, b1), (a2, b2),..., (an, bn) such that the sum of min(ai, bi) for all i is maximized. Return the maximized sum.\n",
        "\n",
        "**Example 1:**\n",
        "Input: nums = [1,4,3,2]\n",
        "Output: 4\n",
        "\n",
        "**Explanation:** All possible pairings (ignoring the ordering of elements) are:\n",
        "\n",
        "1. (1, 4), (2, 3) -> min(1, 4) + min(2, 3) = 1 + 2 = 3\n",
        "2. (1, 3), (2, 4) -> min(1, 3) + min(2, 4) = 1 + 2 = 3\n",
        "3. (1, 2), (3, 4) -> min(1, 2) + min(3, 4) = 1 + 3 = 4\n",
        "So the maximum possible sum is 4\n",
        "</aside>"
      ],
      "metadata": {
        "id": "YxqZHuFt19QV"
      }
    },
    {
      "cell_type": "code",
      "execution_count": null,
      "metadata": {
        "id": "4Uc7Jh-Vm5ff",
        "colab": {
          "base_uri": "https://localhost:8080/"
        },
        "outputId": "ac820fbc-3253-4d0d-e0cf-4ec8f0e9aaa9"
      },
      "outputs": [
        {
          "output_type": "stream",
          "name": "stdout",
          "text": [
            "7\n"
          ]
        }
      ],
      "source": [
        "def max_Pair_sum(num):\n",
        "  res = []\n",
        "  num.sort()\n",
        "  for i in range(0,len(num)-1):\n",
        "    res.append(res_calc(num))\n",
        "    #print(num)\n",
        "    num[i+1],num[i] = num[i],num[i+1]\n",
        "  return max(res)\n",
        "\n",
        "def res_calc(num):\n",
        "  sum =0\n",
        "  for i in range(0,len(num),2):\n",
        "    sum += min(num[i],num[i+1])\n",
        "  return sum\n",
        "print(max_Pair_sum([2,4,5,7]))"
      ]
    },
    {
      "cell_type": "markdown",
      "source": [
        "Question 2\n",
        "Alice has n candies, where the ith candy is of type candyType[i]. Alice noticed that she started to gain weight, so she visited a doctor.\n",
        "\n",
        "The doctor advised Alice to only eat n / 2 of the candies she has (n is always even). Alice likes her candies very much, and she wants to eat the maximum number of different types of candies while still following the doctor's advice.\n",
        "\n",
        "Given the integer array candyType of length n, return the maximum number of different types of candies she can eat if she only eats n / 2 of them.\n",
        "\n",
        "Example 1:\n",
        "Input: candyType = [1,1,2,2,3,3]\n",
        "Output: 3\n",
        "\n",
        "Explanation: Alice can only eat 6 / 2 = 3 candies. Since there are only 3 types, she can eat one of each type."
      ],
      "metadata": {
        "id": "UNFjawr_75YE"
      }
    },
    {
      "cell_type": "code",
      "source": [
        "def For_Alice(num):\n",
        "  num1 = set(num)\n",
        "  return min(len(num1),(len(num)//2))\n",
        "print(For_Alice([1,1,2,2,3,3]))"
      ],
      "metadata": {
        "colab": {
          "base_uri": "https://localhost:8080/"
        },
        "id": "aKxvtZqG3aM3",
        "outputId": "14118cf5-20a8-4699-ffa9-d204319125f9"
      },
      "execution_count": null,
      "outputs": [
        {
          "output_type": "stream",
          "name": "stdout",
          "text": [
            "3\n"
          ]
        }
      ]
    },
    {
      "cell_type": "markdown",
      "source": [
        "Question 3\n",
        "We define a harmonious array as an array where the difference between its maximum value\n",
        "and its minimum value is exactly 1.\n",
        "\n",
        "Given an integer array nums, return the length of its longest harmonious subsequence\n",
        "among all its possible subsequences.\n",
        "\n",
        "A subsequence of an array is a sequence that can be derived from the array by deleting some or no elements without changing the order of the remaining elements.\n",
        "\n",
        "Example 1:\n",
        "Input: nums = [1,3,2,2,5,2,3,7]\n",
        "Output: 5\n",
        "\n",
        "Explanation: The longest harmonious subsequence is [3,2,2,2,3]."
      ],
      "metadata": {
        "id": "sUYQlGCN-ziQ"
      }
    },
    {
      "cell_type": "code",
      "source": [
        "def harmonious_array(num):\n",
        "  n = len(num)\n",
        "  max_count =0\n",
        "  count =0\n",
        "  list_p = []\n",
        "  list_b =[]\n",
        "  for i in range(n):\n",
        "    j2 = i+1\n",
        "    count =1\n",
        "    list_b =[]\n",
        "    list_b.append(num[i])\n",
        "    for j in range(j2,n):\n",
        "      if num[i]-num[j] ==1 or num[i]==num[j]:\n",
        "        list_b.append(num[j])\n",
        "        count +=1\n",
        "    list_p.append(list_b)\n",
        "    max_count = max(max_count,count)\n",
        "  #print(list_p)\n",
        "  return max_count\n",
        "\n",
        "print(harmonious_array([1,3,2,2,5,2,3,7]))\n",
        "\n"
      ],
      "metadata": {
        "id": "wU04row24Dme",
        "colab": {
          "base_uri": "https://localhost:8080/"
        },
        "outputId": "fdf69805-2398-40ce-c7f2-928f85513e4a"
      },
      "execution_count": 25,
      "outputs": [
        {
          "output_type": "stream",
          "name": "stdout",
          "text": [
            "5\n"
          ]
        }
      ]
    },
    {
      "cell_type": "markdown",
      "source": [
        "Question 4\n",
        "You have a long flowerbed in which some of the plots are planted, and some are not.\n",
        "However, flowers cannot be planted in adjacent plots.\n",
        "Given an integer array flowerbed containing 0's and 1's, where 0 means empty and 1 means not empty, and an integer n, return true if n new flowers can be planted in the flowerbed without violating the no-adjacent-flowers rule and false otherwise.\n",
        "\n",
        "Example 1:\n",
        "Input: flowerbed = [1,0,0,0,1], n = 1\n",
        "Output: true"
      ],
      "metadata": {
        "id": "SWzuqVN5tkdF"
      }
    },
    {
      "cell_type": "code",
      "source": [
        "def no_adjacent_flowers(num,s):\n",
        "  count = 0\n",
        "  n = len(num)\n",
        "\n",
        "  for i in range(n):\n",
        "    if num[i] == 0 and (i == 0 or num[i - 1] == 0) and (i == n - 1 or num[i + 1] == 0):\n",
        "      num[i] = 1\n",
        "      count += 1\n",
        "\n",
        "  return True if count >= s else False\n",
        "\n",
        "print(no_adjacent_flowers([1, 0, 0, 0, 1],1))"
      ],
      "metadata": {
        "colab": {
          "base_uri": "https://localhost:8080/"
        },
        "id": "Ee02fc_pg9DJ",
        "outputId": "69d411e9-e0bb-4f3e-f08e-03728c69bec1"
      },
      "execution_count": 51,
      "outputs": [
        {
          "output_type": "stream",
          "name": "stdout",
          "text": [
            "True\n"
          ]
        }
      ]
    },
    {
      "cell_type": "markdown",
      "source": [
        "Question 5\n",
        "Given an integer array nums, find three numbers whose product is maximum and return the maximum product.\n",
        "\n",
        "Example 1:\n",
        "Input: nums = [1,2,3]\n",
        "Output: 6"
      ],
      "metadata": {
        "id": "uu1XtGei9Crp"
      }
    },
    {
      "cell_type": "code",
      "source": [
        "def Three_number(nums):\n",
        "  nums.sort()\n",
        "  n = len(nums)\n",
        "  return max(nums[n-1]*nums[n-2]*nums[n-3], nums[0]*nums[1]*nums[n-1]) if n>=3 else -1\n",
        "\n",
        "print(Three_number([1,2,3]))\n"
      ],
      "metadata": {
        "colab": {
          "base_uri": "https://localhost:8080/"
        },
        "id": "1Tfnjo2Jhqb8",
        "outputId": "088a46fe-53e0-4bbb-ab3b-b96c82022594"
      },
      "execution_count": 35,
      "outputs": [
        {
          "output_type": "stream",
          "name": "stdout",
          "text": [
            "6\n"
          ]
        }
      ]
    },
    {
      "cell_type": "markdown",
      "source": [
        "Question 6\n",
        "Given an array of integers nums which is sorted in ascending order, and an integer target,\n",
        "write a function to search target in nums. If target exists, then return its index. Otherwise,\n",
        "return -1.\n",
        "\n",
        "You must write an algorithm with O(log n) runtime complexity.\n",
        "\n",
        "Input: nums = [-1,0,3,5,9,12], target = 9\n",
        "Output: 4\n",
        "\n",
        "Explanation: 9 exists in nums and its index is 4"
      ],
      "metadata": {
        "id": "2kp6YKDGNBqK"
      }
    },
    {
      "cell_type": "code",
      "source": [
        "def binary_search(num,x):\n",
        "  i =0\n",
        "  j = len(num)-1\n",
        "  while j>=i:\n",
        "    mid = i+(j-i)//2\n",
        "    if num[mid] == x:\n",
        "      return mid\n",
        "    elif num[mid] < x:\n",
        "      i = mid + 1\n",
        "    elif num[mid] > x:\n",
        "      j = mid - 1\n",
        "  return -1\n",
        "\n",
        "print(binary_search([-1,0,3,5,9,12],9))"
      ],
      "metadata": {
        "colab": {
          "base_uri": "https://localhost:8080/"
        },
        "id": "BC8XCUdb7GyG",
        "outputId": "77aea67a-cc54-4c6e-fa33-7748e30f727c"
      },
      "execution_count": 40,
      "outputs": [
        {
          "output_type": "stream",
          "name": "stdout",
          "text": [
            "4\n"
          ]
        }
      ]
    },
    {
      "cell_type": "markdown",
      "source": [
        "Question 7\n",
        "An array is monotonic if it is either monotone increasing or monotone decreasing.\n",
        "\n",
        "An array nums is monotone increasing if for all i <= j, nums[i] <= nums[j]. An array nums is\n",
        "monotone decreasing if for all i <= j, nums[i] >= nums[j].\n",
        "\n",
        "Given an integer array nums, return true if the given array is monotonic, or false otherwise.\n",
        "\n",
        "Example 1:\n",
        "Input: nums = [1,2,2,3]\n",
        "Output: true"
      ],
      "metadata": {
        "id": "L4ErhvfLQCRg"
      }
    },
    {
      "cell_type": "code",
      "source": [
        "def monotonic(num):\n",
        "  incre= decre= True\n",
        "\n",
        "  for i in range(len(num) - 1):\n",
        "    if num[i] > num[i + 1]:\n",
        "      incre = False\n",
        "    if num[i] < num[i + 1]:\n",
        "      decre = False\n",
        "\n",
        "  return incre or decre\n",
        "\n",
        "print(monotonic([1, 2, 2, 3]))\n"
      ],
      "metadata": {
        "colab": {
          "base_uri": "https://localhost:8080/"
        },
        "id": "R6aeRh2wPt9D",
        "outputId": "bfef9266-054f-429d-fac3-c23ac32e14d9"
      },
      "execution_count": 46,
      "outputs": [
        {
          "output_type": "stream",
          "name": "stdout",
          "text": [
            "True\n"
          ]
        }
      ]
    },
    {
      "cell_type": "markdown",
      "source": [
        "Question 8\n",
        "You are given an integer array nums and an integer k.\n",
        "\n",
        "In one operation, you can choose any index i where 0 <= i < nums.length and change nums[i] to nums[i] + x where x is an integer from the range [-k, k]. You can apply this operation at most once for each index i.\n",
        "\n",
        "The score of nums is the difference between the maximum and minimum elements in nums.\n",
        "\n",
        "Return the minimum score of nums after applying the mentioned operation at most once for each index in it.\n",
        "\n",
        "Example 1:\n",
        "Input: nums = [1], k = 0\n",
        "Output: 0\n",
        "\n",
        "Explanation: The score is max(nums) - min(nums) = 1 - 1 = 0."
      ],
      "metadata": {
        "id": "TWcnREciaaV6"
      }
    },
    {
      "cell_type": "code",
      "source": [
        "def Min_score(nums,k):\n",
        "  Max = max(nums)\n",
        "  Min = min(nums)\n",
        "  diff = Max - Min\n",
        "  if diff - k <= k:\n",
        "    return 0\n",
        "  return (diff - 2*k)\n",
        "\n",
        "print(Min_score([1],0))"
      ],
      "metadata": {
        "colab": {
          "base_uri": "https://localhost:8080/"
        },
        "id": "uCRZj1leTKe8",
        "outputId": "a79c6cbb-f6a3-4592-fb96-91859c32c867"
      },
      "execution_count": 50,
      "outputs": [
        {
          "output_type": "stream",
          "name": "stdout",
          "text": [
            "0\n"
          ]
        }
      ]
    },
    {
      "cell_type": "code",
      "source": [],
      "metadata": {
        "id": "n1NN2gKoe0vx"
      },
      "execution_count": null,
      "outputs": []
    }
  ]
}