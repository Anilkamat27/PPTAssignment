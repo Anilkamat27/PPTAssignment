{
  "nbformat": 4,
  "nbformat_minor": 0,
  "metadata": {
    "colab": {
      "provenance": []
    },
    "kernelspec": {
      "name": "python3",
      "display_name": "Python 3"
    },
    "language_info": {
      "name": "python"
    }
  },
  "cells": [
    {
      "cell_type": "markdown",
      "source": [
        "Question 1\n",
        "Given an integer array nums of length n and an integer target, find three integers\n",
        "in nums such that the sum is closest to the target.\n",
        "Return the sum of the three integers.\n",
        "\n",
        "You may assume that each input would have exactly one solution.\n",
        "\n",
        "Example 1:\n",
        "Input: nums = [-1,2,1,-4], target = 1\n",
        "Output: 2\n",
        "\n",
        "Explanation: The sum that is closest to the target is 2. (-1 + 2 + 1 = 2)."
      ],
      "metadata": {
        "id": "zVJ6-1BE655E"
      }
    },
    {
      "cell_type": "code",
      "source": [
        "def Three_Sum_closest(num, target):\n",
        "  num.sort()\n",
        "  diff = float('inf')  # Initialize diff to positive infinity\n",
        "  for i in range(len(num)-2):\n",
        "    j = i + 1\n",
        "    k = len(num) - 1\n",
        "    while j < k:\n",
        "      curr_sum = num[i] + num[j] + num[k]\n",
        "      if abs(curr_sum - target) < abs(diff - target):\n",
        "        diff = curr_sum\n",
        "      if curr_sum < target:\n",
        "        j += 1\n",
        "      else:\n",
        "        k -= 1\n",
        "\n",
        "  return diff\n",
        "\n",
        "print(Three_Sum_closest([-1, 2, 1, -4], 1))\n"
      ],
      "metadata": {
        "colab": {
          "base_uri": "https://localhost:8080/"
        },
        "id": "rhQJR03XC1cK",
        "outputId": "821b1683-1a1b-42ea-8431-a7a8874fbe92"
      },
      "execution_count": null,
      "outputs": [
        {
          "output_type": "stream",
          "name": "stdout",
          "text": [
            "2\n"
          ]
        }
      ]
    },
    {
      "cell_type": "markdown",
      "source": [
        "Question 2\n",
        "Given an array nums of n integers, return an array of all the unique quadruplets\n",
        "[nums[a], nums[b], nums[c], nums[d]] such that:\n",
        "\n",
        " 0 <= a, b, c, d < n\n",
        "\n",
        " a, b, c, and d are distinct.\n",
        "\n",
        " nums[a] + nums[b] + nums[c] + nums[d] == target\n",
        "\n",
        "You may return the answer in any order.\n",
        "\n",
        "Example 1:\n",
        "\n",
        "Input: nums = [1,0,-1,0,-2,2], target = 0\n",
        "\n",
        "Output: [[-2,-1,1,2],[-2,0,0,2],[-1,0,0,1]]"
      ],
      "metadata": {
        "id": "kvDhTRjxPnQe"
      }
    },
    {
      "cell_type": "code",
      "source": [
        "def fourSum(nums, target):\n",
        "  n = len(nums)\n",
        "  st = set()\n",
        "  for i in range(n):\n",
        "    for j in range(i+1, n):\n",
        "      hashset = set()\n",
        "      for k in range(j+1, n):\n",
        "        sum = nums[i] + nums[j] + nums[k]\n",
        "        fourth = target - sum\n",
        "        if fourth in hashset:\n",
        "          temp = [nums[i], nums[j], nums[k], fourth]\n",
        "          temp.sort()\n",
        "          st.add(tuple(temp))\n",
        "        hashset.add(nums[k])\n",
        "  return st\n",
        "print(fourSum([1,0,-1,0,-2,2],0))\n"
      ],
      "metadata": {
        "id": "qZu6zBhiJiFE",
        "colab": {
          "base_uri": "https://localhost:8080/"
        },
        "outputId": "ce1fe731-8d79-4a52-cf98-9f53ae7fab5b"
      },
      "execution_count": 19,
      "outputs": [
        {
          "output_type": "stream",
          "name": "stdout",
          "text": [
            "{(-2, -1, 1, 2), (-1, 0, 0, 1), (-2, 0, 0, 2)}\n"
          ]
        }
      ]
    },
    {
      "cell_type": "markdown",
      "source": [
        "\n",
        "Question 3 : A permutation of an array of integers is an arrangement of its members into a\n",
        "sequence or linear order.\n",
        "\n",
        "For example, for arr = [1,2,3], the following are all the permutations of arr:\n",
        "[1,2,3], [1,3,2], [2, 1, 3], [2, 3, 1], [3,1,2], [3,2,1].\n",
        "\n",
        "The next permutation of an array of integers is the next lexicographically greater\n",
        "permutation of its integer. More formally, if all the permutations of the array are\n",
        "sorted in one container according to their lexicographical order, then the next\n",
        "permutation of that array is the permutation that follows it in the sorted container.\n",
        "\n",
        "If such an arrangement is not possible, the array must be rearranged as the\n",
        "lowest possible order (i.e., sorted in ascending order).\n",
        "\n",
        "For example, the next permutation of arr = [1,2,3] is [1,3,2].\n",
        "\n",
        "Similarly, the next permutation of arr = [2,3,1] is [3,1,2].\n",
        "\n",
        "While the next permutation of arr = [3,2,1] is [1,2,3] because [3,2,1] does not\n",
        "have a lexicographical larger rearrangement.\n",
        "\n",
        "Given an array of integers nums, find the next permutation of nums.\n",
        "The replacement must be in place and use only constant extra memory.\n",
        "\n",
        "**Example 1:**\n",
        "Input: nums = [1,2,3]\n",
        "Output: [1,3,2]\n",
        "\n",
        "</aside>"
      ],
      "metadata": {
        "id": "YXUjgY-PFCgD"
      }
    },
    {
      "cell_type": "code",
      "source": [
        "def nextP(num):\n",
        "  res = 0\n",
        "  i1 =0\n",
        "  for i in range(len(num)-1, 0, -1):\n",
        "    if num[i] > num[i-1] :\n",
        "      temp = num[i-1]\n",
        "      num[i-1] = num[i]\n",
        "      num[i] = temp\n",
        "      res +=1\n",
        "      i1 =i\n",
        "      break\n",
        "  num[i1 :] = num[i1:][::-1]\n",
        "  print(num)\n",
        "\n",
        "nextP([1,2,3])"
      ],
      "metadata": {
        "colab": {
          "base_uri": "https://localhost:8080/"
        },
        "id": "R-hR3dtDEAe-",
        "outputId": "a8b42c98-aa77-4063-d2ef-b502f59cb9c9"
      },
      "execution_count": null,
      "outputs": [
        {
          "output_type": "stream",
          "name": "stdout",
          "text": [
            "[1, 3, 2]\n"
          ]
        }
      ]
    },
    {
      "cell_type": "markdown",
      "source": [
        "Question 4\n",
        "\n",
        "Given a sorted array of distinct integers and a target value, return the index if the\n",
        "target is found. If not, return the index where it would be if it were inserted in\n",
        "order.\n",
        "\n",
        "You must write an algorithm with O(log n) runtime complexity.\n",
        "\n",
        "Example 1:\n",
        "\n",
        "Input: nums = [1,3,5,6], target = 5\n",
        "\n",
        "Output: 2"
      ],
      "metadata": {
        "id": "gtaGgaqDLVjy"
      }
    },
    {
      "cell_type": "code",
      "source": [
        "def binary_search(num,x):\n",
        "  i =0\n",
        "  j = len(num)-1\n",
        "  while j>=i:\n",
        "    mid = i+(j-i)//2\n",
        "    if num[mid] == x:\n",
        "      return mid\n",
        "    elif num[mid] < x:\n",
        "      i = mid + 1\n",
        "    elif num[mid] > x:\n",
        "      j = mid - 1\n",
        "  return -1\n",
        "\n",
        "print(binary_search([1,3,5,6],5))"
      ],
      "metadata": {
        "id": "e12Z9SbMF6Xx",
        "colab": {
          "base_uri": "https://localhost:8080/"
        },
        "outputId": "f7fe7baf-c314-4ad0-d132-f4a0e5467eb9"
      },
      "execution_count": null,
      "outputs": [
        {
          "output_type": "stream",
          "name": "stdout",
          "text": [
            "2\n"
          ]
        }
      ]
    },
    {
      "cell_type": "markdown",
      "source": [
        "<aside>\n",
        "\n",
        " Question 5\n",
        "\n",
        "You are given a large integer represented as an integer array digits, where each\n",
        "digits[i] is the ith digit of the integer. The digits are ordered from most significant\n",
        "to least significant in left-to-right order. The large integer does not contain any\n",
        "leading 0's.\n",
        "\n",
        "Increment the large integer by one and return the resulting array of digits.\n",
        "\n",
        "**Example 1:**\n",
        "Input: digits = [1,2,3]\n",
        "Output: [1,2,4]\n",
        "\n",
        "**Explanation:** The array represents the integer 123.\n",
        "Incrementing by one gives 123 + 1 = 124.\n",
        "Thus, the result should be [1,2,4].\n",
        "\n",
        "</aside>"
      ],
      "metadata": {
        "id": "9MogtuXIUs3r"
      }
    },
    {
      "cell_type": "code",
      "source": [
        "def increment(num):\n",
        "  new_num = [1]\n",
        "  for i in range(len(num) - 1, -1, -1):\n",
        "    if num[i] < 9:\n",
        "      num[i] += 1\n",
        "      break\n",
        "    elif num[i] == 9 and i != 0:\n",
        "      num[i] = 0\n",
        "    elif num[i] == 9 and i == 0:\n",
        "      num[i] = 0\n",
        "      num = new_num + num[i:]\n",
        "  return num\n",
        "\n",
        "print(increment([1, 2, 3]))\n",
        "print(increment([9,9,9]))\n"
      ],
      "metadata": {
        "colab": {
          "base_uri": "https://localhost:8080/"
        },
        "id": "wvFgxZXYUoR_",
        "outputId": "1f7bfc48-4f80-4b70-bc22-08af8226668c"
      },
      "execution_count": null,
      "outputs": [
        {
          "output_type": "stream",
          "name": "stdout",
          "text": [
            "[1, 2, 4]\n",
            "[1, 0, 0, 0]\n"
          ]
        }
      ]
    },
    {
      "cell_type": "markdown",
      "source": [
        "Question 6\n",
        "Given a non-empty array of integers nums, every element appears twice except\n",
        "for one. Find that single one.\n",
        "\n",
        "You must implement a solution with a linear runtime complexity and use only\n",
        "constant extra space.\n",
        "\n",
        "Example 1:\n",
        "\n",
        "Input: nums = [2,2,1]\n",
        "\n",
        "Output: 1"
      ],
      "metadata": {
        "id": "Egz_yl83jZec"
      }
    },
    {
      "cell_type": "code",
      "source": [
        "def singleNumber(nums):\n",
        "    a = 0\n",
        "    for num in nums:\n",
        "        a ^= num\n",
        "    return a\n",
        "print(singleNumber([2,2,1]))"
      ],
      "metadata": {
        "id": "h8zzDK9uiJ9I",
        "colab": {
          "base_uri": "https://localhost:8080/"
        },
        "outputId": "cf4c167d-5227-47b7-f930-e89155cf5c85"
      },
      "execution_count": null,
      "outputs": [
        {
          "output_type": "stream",
          "name": "stdout",
          "text": [
            "1\n"
          ]
        }
      ]
    },
    {
      "cell_type": "markdown",
      "source": [
        "Question 7\n",
        "\n",
        "You are given an inclusive range [lower, upper] and a sorted unique integer array\n",
        "nums, where all elements are within the inclusive range.\n",
        "\n",
        "A number x is considered missing if x is in the range [lower, upper] and x is not in\n",
        "nums.\n",
        "\n",
        "Return the shortest sorted list of ranges that exactly covers all the missing\n",
        "numbers. That is, no element of nums is included in any of the ranges, and each\n",
        "missing number is covered by one of the ranges.\n",
        "\n",
        "Example 1:\n",
        "\n",
        "Input: nums = [0,1,3,50,75], lower = 0, upper = 99\n",
        "\n",
        "Output: [[2,2],[4,49],[51,74],[76,99]]\n",
        "\n",
        "Explanation: The ranges are:\n",
        "\n",
        "[2,2]\n",
        "\n",
        "[4,49]\n",
        "\n",
        "[51,74]\n",
        "\n",
        "[76,99]"
      ],
      "metadata": {
        "id": "_4wn383Fytjg"
      }
    },
    {
      "cell_type": "code",
      "source": [
        "def Ranges(nums, l, u):\n",
        "  res = []\n",
        "  if nums[0] > l:\n",
        "    addRange(res, l, nums[0] - 1)\n",
        "  for i in range(1, len(nums)):\n",
        "    if nums[i] - nums[i-1] > 1:\n",
        "      addRange(res, nums[i-1] + 1, nums[i] - 1)\n",
        "\n",
        "  if nums[-1] < u:\n",
        "    addRange(res, nums[-1] + 1, u)\n",
        "\n",
        "  return res\n",
        "\n",
        "\n",
        "def addRange(res, i, j):\n",
        "  if i == j:\n",
        "    res.append([i, i])\n",
        "  else:\n",
        "    res.append([i, j])\n",
        "\n",
        "print(Ranges([0, 1, 3, 50, 75], 0, 99))\n"
      ],
      "metadata": {
        "id": "fL8ChAyoxrfJ",
        "colab": {
          "base_uri": "https://localhost:8080/"
        },
        "outputId": "3775c904-8ca0-4fe9-ed98-f09fe32e4ebb"
      },
      "execution_count": 15,
      "outputs": [
        {
          "output_type": "stream",
          "name": "stdout",
          "text": [
            "[[2, 2], [4, 49], [51, 74], [76, 99]]\n"
          ]
        }
      ]
    },
    {
      "cell_type": "markdown",
      "source": [
        "Question 8\n",
        "Given an array of meeting time intervals where intervals[i] = [starti, endi],\n",
        "determine if a person could attend all meetings.\n",
        "\n",
        "Example 1:\n",
        "\n",
        "Input: intervals = [[0,30],[5,10],[15,20]]\n",
        "\n",
        "Output: false"
      ],
      "metadata": {
        "id": "ai6J5wJLDMHE"
      }
    },
    {
      "cell_type": "code",
      "source": [
        "def merge(intervals):\n",
        "  intervals.sort(key=lambda x: x[0])\n",
        "  merged = []\n",
        "  for interval in intervals:\n",
        "    if not merged or merged[-1][1] < interval[0]:\n",
        "      merged.append(interval)\n",
        "    else:\n",
        "      merged[-1][1] = max(merged[-1][1], interval[1])\n",
        "  return True if len(merged) == len(intervals) else False\n",
        "print(merge([[0,30],[5,10],[15,20]]))"
      ],
      "metadata": {
        "colab": {
          "base_uri": "https://localhost:8080/"
        },
        "id": "wABtq8EnBf40",
        "outputId": "914c6c0b-28cf-4ae2-d509-a869e58df321"
      },
      "execution_count": 16,
      "outputs": [
        {
          "output_type": "stream",
          "name": "stdout",
          "text": [
            "False\n"
          ]
        }
      ]
    },
    {
      "cell_type": "code",
      "source": [],
      "metadata": {
        "id": "Jn2Cyar0GoI7"
      },
      "execution_count": null,
      "outputs": []
    }
  ]
}